{
 "cells": [
  {
   "cell_type": "markdown",
   "metadata": {
    "collapsed": true
   },
   "source": [
    "# DataFrames\n",
    "\n",
    "DataFrames are the workhorse of pandas and are directly inspired by the R programming language. We can think of a DataFrame as a bunch of Series objects put together to share the same index. Let's use pandas to explore this topic!"
   ]
  },
  {
   "cell_type": "code",
   "execution_count": 1,
   "metadata": {
    "collapsed": true
   },
   "outputs": [],
   "source": [
    "import pandas as pd\n",
    "import numpy as np\n",
    "from numpy.random import randn"
   ]
  },
  {
   "cell_type": "code",
   "execution_count": 2,
   "metadata": {
    "collapsed": true
   },
   "outputs": [],
   "source": [
    "np.random.seed(101)"
   ]
  },
  {
   "cell_type": "code",
   "execution_count": 18,
   "metadata": {
    "collapsed": false
   },
   "outputs": [
    {
     "data": {
      "text/html": [
       "<div>\n",
       "<table border=\"1\" class=\"dataframe\">\n",
       "  <thead>\n",
       "    <tr style=\"text-align: right;\">\n",
       "      <th></th>\n",
       "      <th>Q</th>\n",
       "      <th>W</th>\n",
       "      <th>R</th>\n",
       "      <th>T</th>\n",
       "    </tr>\n",
       "  </thead>\n",
       "  <tbody>\n",
       "    <tr>\n",
       "      <th>A</th>\n",
       "      <td>0.783316</td>\n",
       "      <td>-0.708954</td>\n",
       "      <td>0.586847</td>\n",
       "      <td>-1.621348</td>\n",
       "    </tr>\n",
       "    <tr>\n",
       "      <th>B</th>\n",
       "      <td>0.677535</td>\n",
       "      <td>0.026105</td>\n",
       "      <td>-1.678284</td>\n",
       "      <td>0.333973</td>\n",
       "    </tr>\n",
       "    <tr>\n",
       "      <th>C</th>\n",
       "      <td>-0.532471</td>\n",
       "      <td>2.117727</td>\n",
       "      <td>0.197524</td>\n",
       "      <td>2.302987</td>\n",
       "    </tr>\n",
       "    <tr>\n",
       "      <th>D</th>\n",
       "      <td>0.729024</td>\n",
       "      <td>-0.863091</td>\n",
       "      <td>0.305632</td>\n",
       "      <td>0.243178</td>\n",
       "    </tr>\n",
       "    <tr>\n",
       "      <th>E</th>\n",
       "      <td>0.864165</td>\n",
       "      <td>-1.560931</td>\n",
       "      <td>-0.251897</td>\n",
       "      <td>-0.578120</td>\n",
       "    </tr>\n",
       "  </tbody>\n",
       "</table>\n",
       "</div>"
      ],
      "text/plain": [
       "          Q         W         R         T\n",
       "A  0.783316 -0.708954  0.586847 -1.621348\n",
       "B  0.677535  0.026105 -1.678284  0.333973\n",
       "C -0.532471  2.117727  0.197524  2.302987\n",
       "D  0.729024 -0.863091  0.305632  0.243178\n",
       "E  0.864165 -1.560931 -0.251897 -0.578120"
      ]
     },
     "execution_count": 18,
     "metadata": {},
     "output_type": "execute_result"
    }
   ],
   "source": [
    "df = pd.DataFrame(randn(5,4), index='A B C D E'.split(), columns='Q W R T'.split())\n",
    "df.head()"
   ]
  },
  {
   "cell_type": "markdown",
   "metadata": {},
   "source": [
    "#### select a column"
   ]
  },
  {
   "cell_type": "code",
   "execution_count": 19,
   "metadata": {
    "collapsed": false
   },
   "outputs": [
    {
     "data": {
      "text/plain": [
       "A   -0.708954\n",
       "B    0.026105\n",
       "C    2.117727\n",
       "D   -0.863091\n",
       "E   -1.560931\n",
       "Name: W, dtype: float64"
      ]
     },
     "execution_count": 19,
     "metadata": {},
     "output_type": "execute_result"
    }
   ],
   "source": [
    "df['W']"
   ]
  },
  {
   "cell_type": "markdown",
   "metadata": {},
   "source": [
    "#### select a set of columns"
   ]
  },
  {
   "cell_type": "code",
   "execution_count": 20,
   "metadata": {
    "collapsed": false
   },
   "outputs": [
    {
     "data": {
      "text/html": [
       "<div>\n",
       "<table border=\"1\" class=\"dataframe\">\n",
       "  <thead>\n",
       "    <tr style=\"text-align: right;\">\n",
       "      <th></th>\n",
       "      <th>Q</th>\n",
       "      <th>T</th>\n",
       "    </tr>\n",
       "  </thead>\n",
       "  <tbody>\n",
       "    <tr>\n",
       "      <th>A</th>\n",
       "      <td>0.783316</td>\n",
       "      <td>-1.621348</td>\n",
       "    </tr>\n",
       "    <tr>\n",
       "      <th>B</th>\n",
       "      <td>0.677535</td>\n",
       "      <td>0.333973</td>\n",
       "    </tr>\n",
       "    <tr>\n",
       "      <th>C</th>\n",
       "      <td>-0.532471</td>\n",
       "      <td>2.302987</td>\n",
       "    </tr>\n",
       "    <tr>\n",
       "      <th>D</th>\n",
       "      <td>0.729024</td>\n",
       "      <td>0.243178</td>\n",
       "    </tr>\n",
       "    <tr>\n",
       "      <th>E</th>\n",
       "      <td>0.864165</td>\n",
       "      <td>-0.578120</td>\n",
       "    </tr>\n",
       "  </tbody>\n",
       "</table>\n",
       "</div>"
      ],
      "text/plain": [
       "          Q         T\n",
       "A  0.783316 -1.621348\n",
       "B  0.677535  0.333973\n",
       "C -0.532471  2.302987\n",
       "D  0.729024  0.243178\n",
       "E  0.864165 -0.578120"
      ]
     },
     "execution_count": 20,
     "metadata": {},
     "output_type": "execute_result"
    }
   ],
   "source": [
    "df[['Q', 'T']]"
   ]
  },
  {
   "cell_type": "markdown",
   "metadata": {},
   "source": [
    "#### add a new column"
   ]
  },
  {
   "cell_type": "code",
   "execution_count": 28,
   "metadata": {
    "collapsed": false
   },
   "outputs": [
    {
     "data": {
      "text/html": [
       "<div>\n",
       "<table border=\"1\" class=\"dataframe\">\n",
       "  <thead>\n",
       "    <tr style=\"text-align: right;\">\n",
       "      <th></th>\n",
       "      <th>Q</th>\n",
       "      <th>W</th>\n",
       "      <th>R</th>\n",
       "      <th>T</th>\n",
       "      <th>new</th>\n",
       "    </tr>\n",
       "  </thead>\n",
       "  <tbody>\n",
       "    <tr>\n",
       "      <th>A</th>\n",
       "      <td>0.783316</td>\n",
       "      <td>-0.708954</td>\n",
       "      <td>0.586847</td>\n",
       "      <td>-1.621348</td>\n",
       "      <td>0.074362</td>\n",
       "    </tr>\n",
       "    <tr>\n",
       "      <th>B</th>\n",
       "      <td>0.677535</td>\n",
       "      <td>0.026105</td>\n",
       "      <td>-1.678284</td>\n",
       "      <td>0.333973</td>\n",
       "      <td>0.703641</td>\n",
       "    </tr>\n",
       "    <tr>\n",
       "      <th>C</th>\n",
       "      <td>-0.532471</td>\n",
       "      <td>2.117727</td>\n",
       "      <td>0.197524</td>\n",
       "      <td>2.302987</td>\n",
       "      <td>1.585257</td>\n",
       "    </tr>\n",
       "    <tr>\n",
       "      <th>D</th>\n",
       "      <td>0.729024</td>\n",
       "      <td>-0.863091</td>\n",
       "      <td>0.305632</td>\n",
       "      <td>0.243178</td>\n",
       "      <td>-0.134068</td>\n",
       "    </tr>\n",
       "    <tr>\n",
       "      <th>E</th>\n",
       "      <td>0.864165</td>\n",
       "      <td>-1.560931</td>\n",
       "      <td>-0.251897</td>\n",
       "      <td>-0.578120</td>\n",
       "      <td>-0.696767</td>\n",
       "    </tr>\n",
       "  </tbody>\n",
       "</table>\n",
       "</div>"
      ],
      "text/plain": [
       "          Q         W         R         T       new\n",
       "A  0.783316 -0.708954  0.586847 -1.621348  0.074362\n",
       "B  0.677535  0.026105 -1.678284  0.333973  0.703641\n",
       "C -0.532471  2.117727  0.197524  2.302987  1.585257\n",
       "D  0.729024 -0.863091  0.305632  0.243178 -0.134068\n",
       "E  0.864165 -1.560931 -0.251897 -0.578120 -0.696767"
      ]
     },
     "execution_count": 28,
     "metadata": {},
     "output_type": "execute_result"
    }
   ],
   "source": [
    "df['new'] = df['Q'] + df['W']\n",
    "df.head()"
   ]
  },
  {
   "cell_type": "markdown",
   "metadata": {},
   "source": [
    "#### remove a column"
   ]
  },
  {
   "cell_type": "code",
   "execution_count": 55,
   "metadata": {
    "collapsed": false
   },
   "outputs": [
    {
     "data": {
      "text/html": [
       "<div>\n",
       "<table border=\"1\" class=\"dataframe\">\n",
       "  <thead>\n",
       "    <tr style=\"text-align: right;\">\n",
       "      <th></th>\n",
       "      <th>Q</th>\n",
       "      <th>W</th>\n",
       "      <th>R</th>\n",
       "      <th>T</th>\n",
       "      <th>States</th>\n",
       "    </tr>\n",
       "  </thead>\n",
       "  <tbody>\n",
       "    <tr>\n",
       "      <th>A</th>\n",
       "      <td>0.783316</td>\n",
       "      <td>-0.708954</td>\n",
       "      <td>0.586847</td>\n",
       "      <td>-1.621348</td>\n",
       "      <td>CA</td>\n",
       "    </tr>\n",
       "    <tr>\n",
       "      <th>B</th>\n",
       "      <td>0.677535</td>\n",
       "      <td>0.026105</td>\n",
       "      <td>-1.678284</td>\n",
       "      <td>0.333973</td>\n",
       "      <td>NY</td>\n",
       "    </tr>\n",
       "    <tr>\n",
       "      <th>C</th>\n",
       "      <td>-0.532471</td>\n",
       "      <td>2.117727</td>\n",
       "      <td>0.197524</td>\n",
       "      <td>2.302987</td>\n",
       "      <td>WY</td>\n",
       "    </tr>\n",
       "    <tr>\n",
       "      <th>D</th>\n",
       "      <td>0.729024</td>\n",
       "      <td>-0.863091</td>\n",
       "      <td>0.305632</td>\n",
       "      <td>0.243178</td>\n",
       "      <td>OR</td>\n",
       "    </tr>\n",
       "    <tr>\n",
       "      <th>E</th>\n",
       "      <td>0.864165</td>\n",
       "      <td>-1.560931</td>\n",
       "      <td>-0.251897</td>\n",
       "      <td>-0.578120</td>\n",
       "      <td>CO</td>\n",
       "    </tr>\n",
       "  </tbody>\n",
       "</table>\n",
       "</div>"
      ],
      "text/plain": [
       "          Q         W         R         T States\n",
       "A  0.783316 -0.708954  0.586847 -1.621348     CA\n",
       "B  0.677535  0.026105 -1.678284  0.333973     NY\n",
       "C -0.532471  2.117727  0.197524  2.302987     WY\n",
       "D  0.729024 -0.863091  0.305632  0.243178     OR\n",
       "E  0.864165 -1.560931 -0.251897 -0.578120     CO"
      ]
     },
     "execution_count": 55,
     "metadata": {},
     "output_type": "execute_result"
    }
   ],
   "source": [
    "# @param axis    => 0 for row; 1 for col\n",
    "# @param inplace => if True the change to the data frame is permanent otherwise it is applied only inside the cell\n",
    "\n",
    "df.drop('new', axis=1, inplace=False)"
   ]
  },
  {
   "cell_type": "code",
   "execution_count": 34,
   "metadata": {
    "collapsed": false
   },
   "outputs": [
    {
     "data": {
      "text/html": [
       "<div>\n",
       "<table border=\"1\" class=\"dataframe\">\n",
       "  <thead>\n",
       "    <tr style=\"text-align: right;\">\n",
       "      <th></th>\n",
       "      <th>Q</th>\n",
       "      <th>W</th>\n",
       "      <th>R</th>\n",
       "      <th>T</th>\n",
       "      <th>new</th>\n",
       "    </tr>\n",
       "  </thead>\n",
       "  <tbody>\n",
       "    <tr>\n",
       "      <th>A</th>\n",
       "      <td>0.783316</td>\n",
       "      <td>-0.708954</td>\n",
       "      <td>0.586847</td>\n",
       "      <td>-1.621348</td>\n",
       "      <td>0.074362</td>\n",
       "    </tr>\n",
       "    <tr>\n",
       "      <th>B</th>\n",
       "      <td>0.677535</td>\n",
       "      <td>0.026105</td>\n",
       "      <td>-1.678284</td>\n",
       "      <td>0.333973</td>\n",
       "      <td>0.703641</td>\n",
       "    </tr>\n",
       "    <tr>\n",
       "      <th>C</th>\n",
       "      <td>-0.532471</td>\n",
       "      <td>2.117727</td>\n",
       "      <td>0.197524</td>\n",
       "      <td>2.302987</td>\n",
       "      <td>1.585257</td>\n",
       "    </tr>\n",
       "    <tr>\n",
       "      <th>D</th>\n",
       "      <td>0.729024</td>\n",
       "      <td>-0.863091</td>\n",
       "      <td>0.305632</td>\n",
       "      <td>0.243178</td>\n",
       "      <td>-0.134068</td>\n",
       "    </tr>\n",
       "    <tr>\n",
       "      <th>E</th>\n",
       "      <td>0.864165</td>\n",
       "      <td>-1.560931</td>\n",
       "      <td>-0.251897</td>\n",
       "      <td>-0.578120</td>\n",
       "      <td>-0.696767</td>\n",
       "    </tr>\n",
       "  </tbody>\n",
       "</table>\n",
       "</div>"
      ],
      "text/plain": [
       "          Q         W         R         T       new\n",
       "A  0.783316 -0.708954  0.586847 -1.621348  0.074362\n",
       "B  0.677535  0.026105 -1.678284  0.333973  0.703641\n",
       "C -0.532471  2.117727  0.197524  2.302987  1.585257\n",
       "D  0.729024 -0.863091  0.305632  0.243178 -0.134068\n",
       "E  0.864165 -1.560931 -0.251897 -0.578120 -0.696767"
      ]
     },
     "execution_count": 34,
     "metadata": {},
     "output_type": "execute_result"
    }
   ],
   "source": [
    "df.head()"
   ]
  },
  {
   "cell_type": "markdown",
   "metadata": {},
   "source": [
    "#### select row"
   ]
  },
  {
   "cell_type": "code",
   "execution_count": 36,
   "metadata": {
    "collapsed": false
   },
   "outputs": [
    {
     "data": {
      "text/plain": [
       "Q      0.783316\n",
       "W     -0.708954\n",
       "R      0.586847\n",
       "T     -1.621348\n",
       "new    0.074362\n",
       "Name: A, dtype: float64"
      ]
     },
     "execution_count": 36,
     "metadata": {},
     "output_type": "execute_result"
    }
   ],
   "source": [
    "df.loc['A']"
   ]
  },
  {
   "cell_type": "markdown",
   "metadata": {},
   "source": [
    "#### select row by index"
   ]
  },
  {
   "cell_type": "code",
   "execution_count": 37,
   "metadata": {
    "collapsed": false
   },
   "outputs": [
    {
     "data": {
      "text/plain": [
       "Q      0.783316\n",
       "W     -0.708954\n",
       "R      0.586847\n",
       "T     -1.621348\n",
       "new    0.074362\n",
       "Name: A, dtype: float64"
      ]
     },
     "execution_count": 37,
     "metadata": {},
     "output_type": "execute_result"
    }
   ],
   "source": [
    "df.iloc[0]"
   ]
  },
  {
   "cell_type": "markdown",
   "metadata": {},
   "source": [
    "#### select a single item"
   ]
  },
  {
   "cell_type": "code",
   "execution_count": 38,
   "metadata": {
    "collapsed": false
   },
   "outputs": [
    {
     "data": {
      "text/plain": [
       "-0.70895373767859216"
      ]
     },
     "execution_count": 38,
     "metadata": {},
     "output_type": "execute_result"
    }
   ],
   "source": [
    "df.loc['A', 'W']"
   ]
  },
  {
   "cell_type": "markdown",
   "metadata": {},
   "source": [
    "#### subsample a table"
   ]
  },
  {
   "cell_type": "code",
   "execution_count": 39,
   "metadata": {
    "collapsed": false
   },
   "outputs": [
    {
     "data": {
      "text/html": [
       "<div>\n",
       "<table border=\"1\" class=\"dataframe\">\n",
       "  <thead>\n",
       "    <tr style=\"text-align: right;\">\n",
       "      <th></th>\n",
       "      <th>Q</th>\n",
       "      <th>T</th>\n",
       "    </tr>\n",
       "  </thead>\n",
       "  <tbody>\n",
       "    <tr>\n",
       "      <th>A</th>\n",
       "      <td>0.783316</td>\n",
       "      <td>-1.621348</td>\n",
       "    </tr>\n",
       "    <tr>\n",
       "      <th>B</th>\n",
       "      <td>0.677535</td>\n",
       "      <td>0.333973</td>\n",
       "    </tr>\n",
       "  </tbody>\n",
       "</table>\n",
       "</div>"
      ],
      "text/plain": [
       "          Q         T\n",
       "A  0.783316 -1.621348\n",
       "B  0.677535  0.333973"
      ]
     },
     "execution_count": 39,
     "metadata": {},
     "output_type": "execute_result"
    }
   ],
   "source": [
    "df.loc[['A','B'], ['Q','T']]"
   ]
  },
  {
   "cell_type": "markdown",
   "metadata": {},
   "source": [
    "## Conditional selection"
   ]
  },
  {
   "cell_type": "code",
   "execution_count": 40,
   "metadata": {
    "collapsed": false
   },
   "outputs": [
    {
     "data": {
      "text/html": [
       "<div>\n",
       "<table border=\"1\" class=\"dataframe\">\n",
       "  <thead>\n",
       "    <tr style=\"text-align: right;\">\n",
       "      <th></th>\n",
       "      <th>Q</th>\n",
       "      <th>W</th>\n",
       "      <th>R</th>\n",
       "      <th>T</th>\n",
       "      <th>new</th>\n",
       "    </tr>\n",
       "  </thead>\n",
       "  <tbody>\n",
       "    <tr>\n",
       "      <th>A</th>\n",
       "      <td>True</td>\n",
       "      <td>False</td>\n",
       "      <td>True</td>\n",
       "      <td>False</td>\n",
       "      <td>True</td>\n",
       "    </tr>\n",
       "    <tr>\n",
       "      <th>B</th>\n",
       "      <td>True</td>\n",
       "      <td>True</td>\n",
       "      <td>False</td>\n",
       "      <td>True</td>\n",
       "      <td>True</td>\n",
       "    </tr>\n",
       "    <tr>\n",
       "      <th>C</th>\n",
       "      <td>False</td>\n",
       "      <td>True</td>\n",
       "      <td>True</td>\n",
       "      <td>True</td>\n",
       "      <td>True</td>\n",
       "    </tr>\n",
       "    <tr>\n",
       "      <th>D</th>\n",
       "      <td>True</td>\n",
       "      <td>False</td>\n",
       "      <td>True</td>\n",
       "      <td>True</td>\n",
       "      <td>False</td>\n",
       "    </tr>\n",
       "    <tr>\n",
       "      <th>E</th>\n",
       "      <td>True</td>\n",
       "      <td>False</td>\n",
       "      <td>False</td>\n",
       "      <td>False</td>\n",
       "      <td>False</td>\n",
       "    </tr>\n",
       "  </tbody>\n",
       "</table>\n",
       "</div>"
      ],
      "text/plain": [
       "       Q      W      R      T    new\n",
       "A   True  False   True  False   True\n",
       "B   True   True  False   True   True\n",
       "C  False   True   True   True   True\n",
       "D   True  False   True   True  False\n",
       "E   True  False  False  False  False"
      ]
     },
     "execution_count": 40,
     "metadata": {},
     "output_type": "execute_result"
    }
   ],
   "source": [
    "df>0"
   ]
  },
  {
   "cell_type": "code",
   "execution_count": 43,
   "metadata": {
    "collapsed": false
   },
   "outputs": [
    {
     "data": {
      "text/html": [
       "<div>\n",
       "<table border=\"1\" class=\"dataframe\">\n",
       "  <thead>\n",
       "    <tr style=\"text-align: right;\">\n",
       "      <th></th>\n",
       "      <th>Q</th>\n",
       "      <th>W</th>\n",
       "      <th>R</th>\n",
       "      <th>T</th>\n",
       "      <th>new</th>\n",
       "    </tr>\n",
       "  </thead>\n",
       "  <tbody>\n",
       "    <tr>\n",
       "      <th>A</th>\n",
       "      <td>0.783316</td>\n",
       "      <td>NaN</td>\n",
       "      <td>0.586847</td>\n",
       "      <td>NaN</td>\n",
       "      <td>0.074362</td>\n",
       "    </tr>\n",
       "    <tr>\n",
       "      <th>B</th>\n",
       "      <td>0.677535</td>\n",
       "      <td>0.026105</td>\n",
       "      <td>NaN</td>\n",
       "      <td>0.333973</td>\n",
       "      <td>0.703641</td>\n",
       "    </tr>\n",
       "    <tr>\n",
       "      <th>C</th>\n",
       "      <td>NaN</td>\n",
       "      <td>2.117727</td>\n",
       "      <td>0.197524</td>\n",
       "      <td>2.302987</td>\n",
       "      <td>1.585257</td>\n",
       "    </tr>\n",
       "    <tr>\n",
       "      <th>D</th>\n",
       "      <td>0.729024</td>\n",
       "      <td>NaN</td>\n",
       "      <td>0.305632</td>\n",
       "      <td>0.243178</td>\n",
       "      <td>NaN</td>\n",
       "    </tr>\n",
       "    <tr>\n",
       "      <th>E</th>\n",
       "      <td>0.864165</td>\n",
       "      <td>NaN</td>\n",
       "      <td>NaN</td>\n",
       "      <td>NaN</td>\n",
       "      <td>NaN</td>\n",
       "    </tr>\n",
       "  </tbody>\n",
       "</table>\n",
       "</div>"
      ],
      "text/plain": [
       "          Q         W         R         T       new\n",
       "A  0.783316       NaN  0.586847       NaN  0.074362\n",
       "B  0.677535  0.026105       NaN  0.333973  0.703641\n",
       "C       NaN  2.117727  0.197524  2.302987  1.585257\n",
       "D  0.729024       NaN  0.305632  0.243178       NaN\n",
       "E  0.864165       NaN       NaN       NaN       NaN"
      ]
     },
     "execution_count": 43,
     "metadata": {},
     "output_type": "execute_result"
    }
   ],
   "source": [
    "# it will show \"NaN\" when the item does not overcome the condition\n",
    "cond = df>0\n",
    "df[cond]"
   ]
  },
  {
   "cell_type": "code",
   "execution_count": 44,
   "metadata": {
    "collapsed": false
   },
   "outputs": [
    {
     "data": {
      "text/html": [
       "<div>\n",
       "<table border=\"1\" class=\"dataframe\">\n",
       "  <thead>\n",
       "    <tr style=\"text-align: right;\">\n",
       "      <th></th>\n",
       "      <th>Q</th>\n",
       "      <th>W</th>\n",
       "      <th>R</th>\n",
       "      <th>T</th>\n",
       "      <th>new</th>\n",
       "    </tr>\n",
       "  </thead>\n",
       "  <tbody>\n",
       "    <tr>\n",
       "      <th>B</th>\n",
       "      <td>0.677535</td>\n",
       "      <td>0.026105</td>\n",
       "      <td>-1.678284</td>\n",
       "      <td>0.333973</td>\n",
       "      <td>0.703641</td>\n",
       "    </tr>\n",
       "    <tr>\n",
       "      <th>C</th>\n",
       "      <td>-0.532471</td>\n",
       "      <td>2.117727</td>\n",
       "      <td>0.197524</td>\n",
       "      <td>2.302987</td>\n",
       "      <td>1.585257</td>\n",
       "    </tr>\n",
       "  </tbody>\n",
       "</table>\n",
       "</div>"
      ],
      "text/plain": [
       "          Q         W         R         T       new\n",
       "B  0.677535  0.026105 -1.678284  0.333973  0.703641\n",
       "C -0.532471  2.117727  0.197524  2.302987  1.585257"
      ]
     },
     "execution_count": 44,
     "metadata": {},
     "output_type": "execute_result"
    }
   ],
   "source": [
    "df[df['W']>0]"
   ]
  },
  {
   "cell_type": "code",
   "execution_count": 46,
   "metadata": {
    "collapsed": false
   },
   "outputs": [
    {
     "data": {
      "text/plain": [
       "B   -1.678284\n",
       "C    0.197524\n",
       "Name: R, dtype: float64"
      ]
     },
     "execution_count": 46,
     "metadata": {},
     "output_type": "execute_result"
    }
   ],
   "source": [
    "df[df['W']>0]['R']"
   ]
  },
  {
   "cell_type": "markdown",
   "metadata": {},
   "source": [
    "#### multiple conditions"
   ]
  },
  {
   "cell_type": "code",
   "execution_count": 49,
   "metadata": {
    "collapsed": false
   },
   "outputs": [
    {
     "data": {
      "text/html": [
       "<div>\n",
       "<table border=\"1\" class=\"dataframe\">\n",
       "  <thead>\n",
       "    <tr style=\"text-align: right;\">\n",
       "      <th></th>\n",
       "      <th>Q</th>\n",
       "      <th>W</th>\n",
       "      <th>R</th>\n",
       "      <th>T</th>\n",
       "      <th>new</th>\n",
       "    </tr>\n",
       "  </thead>\n",
       "  <tbody>\n",
       "    <tr>\n",
       "      <th>C</th>\n",
       "      <td>-0.532471</td>\n",
       "      <td>2.117727</td>\n",
       "      <td>0.197524</td>\n",
       "      <td>2.302987</td>\n",
       "      <td>1.585257</td>\n",
       "    </tr>\n",
       "  </tbody>\n",
       "</table>\n",
       "</div>"
      ],
      "text/plain": [
       "          Q         W         R         T       new\n",
       "C -0.532471  2.117727  0.197524  2.302987  1.585257"
      ]
     },
     "execution_count": 49,
     "metadata": {},
     "output_type": "execute_result"
    }
   ],
   "source": [
    "df[(df['W']>0) & (df['new'] > 1)]"
   ]
  },
  {
   "cell_type": "markdown",
   "metadata": {},
   "source": [
    "## Playing with indexes"
   ]
  },
  {
   "cell_type": "code",
   "execution_count": 51,
   "metadata": {
    "collapsed": false
   },
   "outputs": [
    {
     "data": {
      "text/html": [
       "<div>\n",
       "<table border=\"1\" class=\"dataframe\">\n",
       "  <thead>\n",
       "    <tr style=\"text-align: right;\">\n",
       "      <th></th>\n",
       "      <th>index</th>\n",
       "      <th>Q</th>\n",
       "      <th>W</th>\n",
       "      <th>R</th>\n",
       "      <th>T</th>\n",
       "      <th>new</th>\n",
       "    </tr>\n",
       "  </thead>\n",
       "  <tbody>\n",
       "    <tr>\n",
       "      <th>0</th>\n",
       "      <td>A</td>\n",
       "      <td>0.783316</td>\n",
       "      <td>-0.708954</td>\n",
       "      <td>0.586847</td>\n",
       "      <td>-1.621348</td>\n",
       "      <td>0.074362</td>\n",
       "    </tr>\n",
       "    <tr>\n",
       "      <th>1</th>\n",
       "      <td>B</td>\n",
       "      <td>0.677535</td>\n",
       "      <td>0.026105</td>\n",
       "      <td>-1.678284</td>\n",
       "      <td>0.333973</td>\n",
       "      <td>0.703641</td>\n",
       "    </tr>\n",
       "    <tr>\n",
       "      <th>2</th>\n",
       "      <td>C</td>\n",
       "      <td>-0.532471</td>\n",
       "      <td>2.117727</td>\n",
       "      <td>0.197524</td>\n",
       "      <td>2.302987</td>\n",
       "      <td>1.585257</td>\n",
       "    </tr>\n",
       "    <tr>\n",
       "      <th>3</th>\n",
       "      <td>D</td>\n",
       "      <td>0.729024</td>\n",
       "      <td>-0.863091</td>\n",
       "      <td>0.305632</td>\n",
       "      <td>0.243178</td>\n",
       "      <td>-0.134068</td>\n",
       "    </tr>\n",
       "    <tr>\n",
       "      <th>4</th>\n",
       "      <td>E</td>\n",
       "      <td>0.864165</td>\n",
       "      <td>-1.560931</td>\n",
       "      <td>-0.251897</td>\n",
       "      <td>-0.578120</td>\n",
       "      <td>-0.696767</td>\n",
       "    </tr>\n",
       "  </tbody>\n",
       "</table>\n",
       "</div>"
      ],
      "text/plain": [
       "  index         Q         W         R         T       new\n",
       "0     A  0.783316 -0.708954  0.586847 -1.621348  0.074362\n",
       "1     B  0.677535  0.026105 -1.678284  0.333973  0.703641\n",
       "2     C -0.532471  2.117727  0.197524  2.302987  1.585257\n",
       "3     D  0.729024 -0.863091  0.305632  0.243178 -0.134068\n",
       "4     E  0.864165 -1.560931 -0.251897 -0.578120 -0.696767"
      ]
     },
     "execution_count": 51,
     "metadata": {},
     "output_type": "execute_result"
    }
   ],
   "source": [
    "df.reset_index()"
   ]
  },
  {
   "cell_type": "markdown",
   "metadata": {},
   "source": [
    "#### create new index column"
   ]
  },
  {
   "cell_type": "code",
   "execution_count": 52,
   "metadata": {
    "collapsed": true
   },
   "outputs": [],
   "source": [
    "# create a list \n",
    "new_indexes = 'CA NY WY OR CO'.split()"
   ]
  },
  {
   "cell_type": "code",
   "execution_count": 54,
   "metadata": {
    "collapsed": false
   },
   "outputs": [
    {
     "data": {
      "text/html": [
       "<div>\n",
       "<table border=\"1\" class=\"dataframe\">\n",
       "  <thead>\n",
       "    <tr style=\"text-align: right;\">\n",
       "      <th></th>\n",
       "      <th>Q</th>\n",
       "      <th>W</th>\n",
       "      <th>R</th>\n",
       "      <th>T</th>\n",
       "      <th>new</th>\n",
       "      <th>States</th>\n",
       "    </tr>\n",
       "  </thead>\n",
       "  <tbody>\n",
       "    <tr>\n",
       "      <th>A</th>\n",
       "      <td>0.783316</td>\n",
       "      <td>-0.708954</td>\n",
       "      <td>0.586847</td>\n",
       "      <td>-1.621348</td>\n",
       "      <td>0.074362</td>\n",
       "      <td>CA</td>\n",
       "    </tr>\n",
       "    <tr>\n",
       "      <th>B</th>\n",
       "      <td>0.677535</td>\n",
       "      <td>0.026105</td>\n",
       "      <td>-1.678284</td>\n",
       "      <td>0.333973</td>\n",
       "      <td>0.703641</td>\n",
       "      <td>NY</td>\n",
       "    </tr>\n",
       "    <tr>\n",
       "      <th>C</th>\n",
       "      <td>-0.532471</td>\n",
       "      <td>2.117727</td>\n",
       "      <td>0.197524</td>\n",
       "      <td>2.302987</td>\n",
       "      <td>1.585257</td>\n",
       "      <td>WY</td>\n",
       "    </tr>\n",
       "    <tr>\n",
       "      <th>D</th>\n",
       "      <td>0.729024</td>\n",
       "      <td>-0.863091</td>\n",
       "      <td>0.305632</td>\n",
       "      <td>0.243178</td>\n",
       "      <td>-0.134068</td>\n",
       "      <td>OR</td>\n",
       "    </tr>\n",
       "    <tr>\n",
       "      <th>E</th>\n",
       "      <td>0.864165</td>\n",
       "      <td>-1.560931</td>\n",
       "      <td>-0.251897</td>\n",
       "      <td>-0.578120</td>\n",
       "      <td>-0.696767</td>\n",
       "      <td>CO</td>\n",
       "    </tr>\n",
       "  </tbody>\n",
       "</table>\n",
       "</div>"
      ],
      "text/plain": [
       "          Q         W         R         T       new States\n",
       "A  0.783316 -0.708954  0.586847 -1.621348  0.074362     CA\n",
       "B  0.677535  0.026105 -1.678284  0.333973  0.703641     NY\n",
       "C -0.532471  2.117727  0.197524  2.302987  1.585257     WY\n",
       "D  0.729024 -0.863091  0.305632  0.243178 -0.134068     OR\n",
       "E  0.864165 -1.560931 -0.251897 -0.578120 -0.696767     CO"
      ]
     },
     "execution_count": 54,
     "metadata": {},
     "output_type": "execute_result"
    }
   ],
   "source": [
    "# create a new column\n",
    "df['States'] = new_indexes\n",
    "df"
   ]
  },
  {
   "cell_type": "code",
   "execution_count": 57,
   "metadata": {
    "collapsed": false
   },
   "outputs": [
    {
     "data": {
      "text/html": [
       "<div>\n",
       "<table border=\"1\" class=\"dataframe\">\n",
       "  <thead>\n",
       "    <tr style=\"text-align: right;\">\n",
       "      <th></th>\n",
       "      <th>Q</th>\n",
       "      <th>W</th>\n",
       "      <th>R</th>\n",
       "      <th>T</th>\n",
       "      <th>new</th>\n",
       "    </tr>\n",
       "    <tr>\n",
       "      <th>States</th>\n",
       "      <th></th>\n",
       "      <th></th>\n",
       "      <th></th>\n",
       "      <th></th>\n",
       "      <th></th>\n",
       "    </tr>\n",
       "  </thead>\n",
       "  <tbody>\n",
       "    <tr>\n",
       "      <th>CA</th>\n",
       "      <td>0.783316</td>\n",
       "      <td>-0.708954</td>\n",
       "      <td>0.586847</td>\n",
       "      <td>-1.621348</td>\n",
       "      <td>0.074362</td>\n",
       "    </tr>\n",
       "    <tr>\n",
       "      <th>NY</th>\n",
       "      <td>0.677535</td>\n",
       "      <td>0.026105</td>\n",
       "      <td>-1.678284</td>\n",
       "      <td>0.333973</td>\n",
       "      <td>0.703641</td>\n",
       "    </tr>\n",
       "    <tr>\n",
       "      <th>WY</th>\n",
       "      <td>-0.532471</td>\n",
       "      <td>2.117727</td>\n",
       "      <td>0.197524</td>\n",
       "      <td>2.302987</td>\n",
       "      <td>1.585257</td>\n",
       "    </tr>\n",
       "    <tr>\n",
       "      <th>OR</th>\n",
       "      <td>0.729024</td>\n",
       "      <td>-0.863091</td>\n",
       "      <td>0.305632</td>\n",
       "      <td>0.243178</td>\n",
       "      <td>-0.134068</td>\n",
       "    </tr>\n",
       "    <tr>\n",
       "      <th>CO</th>\n",
       "      <td>0.864165</td>\n",
       "      <td>-1.560931</td>\n",
       "      <td>-0.251897</td>\n",
       "      <td>-0.578120</td>\n",
       "      <td>-0.696767</td>\n",
       "    </tr>\n",
       "  </tbody>\n",
       "</table>\n",
       "</div>"
      ],
      "text/plain": [
       "               Q         W         R         T       new\n",
       "States                                                  \n",
       "CA      0.783316 -0.708954  0.586847 -1.621348  0.074362\n",
       "NY      0.677535  0.026105 -1.678284  0.333973  0.703641\n",
       "WY     -0.532471  2.117727  0.197524  2.302987  1.585257\n",
       "OR      0.729024 -0.863091  0.305632  0.243178 -0.134068\n",
       "CO      0.864165 -1.560931 -0.251897 -0.578120 -0.696767"
      ]
     },
     "execution_count": 57,
     "metadata": {},
     "output_type": "execute_result"
    }
   ],
   "source": [
    "# @param inplace => if True the change to the data frame is permanent otherwise it is applied only inside the cell\n",
    "\n",
    "df.set_index('States', inplace=False)"
   ]
  },
  {
   "cell_type": "markdown",
   "metadata": {},
   "source": [
    "## Multi-Index and Index Hierarchy"
   ]
  },
  {
   "cell_type": "code",
   "execution_count": 64,
   "metadata": {
    "collapsed": false
   },
   "outputs": [
    {
     "data": {
      "text/plain": [
       "MultiIndex(levels=[['G1', 'G2'], [1, 2, 3]],\n",
       "           labels=[[0, 0, 0, 1, 1, 1], [0, 1, 2, 0, 1, 2]])"
      ]
     },
     "execution_count": 64,
     "metadata": {},
     "output_type": "execute_result"
    }
   ],
   "source": [
    "# Index Levels\n",
    "outside = ['G1','G1','G1','G2','G2','G2']\n",
    "inside = [1,2,3,1,2,3]\n",
    "hier_index = list(zip(outside,inside))\n",
    "hier_index = pd.MultiIndex.from_tuples(hier_index)\n",
    "hier_index"
   ]
  },
  {
   "cell_type": "code",
   "execution_count": 65,
   "metadata": {
    "collapsed": false
   },
   "outputs": [
    {
     "data": {
      "text/html": [
       "<div>\n",
       "<table border=\"1\" class=\"dataframe\">\n",
       "  <thead>\n",
       "    <tr style=\"text-align: right;\">\n",
       "      <th></th>\n",
       "      <th></th>\n",
       "      <th>A</th>\n",
       "      <th>B</th>\n",
       "    </tr>\n",
       "  </thead>\n",
       "  <tbody>\n",
       "    <tr>\n",
       "      <th rowspan=\"3\" valign=\"top\">G1</th>\n",
       "      <th>1</th>\n",
       "      <td>-1.097693</td>\n",
       "      <td>-1.908009</td>\n",
       "    </tr>\n",
       "    <tr>\n",
       "      <th>2</th>\n",
       "      <td>-0.380104</td>\n",
       "      <td>-1.666059</td>\n",
       "    </tr>\n",
       "    <tr>\n",
       "      <th>3</th>\n",
       "      <td>-2.736995</td>\n",
       "      <td>1.522562</td>\n",
       "    </tr>\n",
       "    <tr>\n",
       "      <th rowspan=\"3\" valign=\"top\">G2</th>\n",
       "      <th>1</th>\n",
       "      <td>0.178009</td>\n",
       "      <td>-0.626805</td>\n",
       "    </tr>\n",
       "    <tr>\n",
       "      <th>2</th>\n",
       "      <td>-0.391089</td>\n",
       "      <td>1.743477</td>\n",
       "    </tr>\n",
       "    <tr>\n",
       "      <th>3</th>\n",
       "      <td>1.130018</td>\n",
       "      <td>0.897796</td>\n",
       "    </tr>\n",
       "  </tbody>\n",
       "</table>\n",
       "</div>"
      ],
      "text/plain": [
       "             A         B\n",
       "G1 1 -1.097693 -1.908009\n",
       "   2 -0.380104 -1.666059\n",
       "   3 -2.736995  1.522562\n",
       "G2 1  0.178009 -0.626805\n",
       "   2 -0.391089  1.743477\n",
       "   3  1.130018  0.897796"
      ]
     },
     "execution_count": 65,
     "metadata": {},
     "output_type": "execute_result"
    }
   ],
   "source": [
    "df = pd.DataFrame(np.random.randn(6,2),index=hier_index,columns=['A','B'])\n",
    "df"
   ]
  },
  {
   "cell_type": "markdown",
   "metadata": {},
   "source": [
    "#### select row from index name"
   ]
  },
  {
   "cell_type": "code",
   "execution_count": 68,
   "metadata": {
    "collapsed": false,
    "scrolled": true
   },
   "outputs": [
    {
     "data": {
      "text/plain": [
       "A   -1.097693\n",
       "B   -1.908009\n",
       "Name: 1, dtype: float64"
      ]
     },
     "execution_count": 68,
     "metadata": {},
     "output_type": "execute_result"
    }
   ],
   "source": [
    "df.loc['G1'].loc[1]"
   ]
  },
  {
   "cell_type": "markdown",
   "metadata": {},
   "source": [
    "#### select row from index position"
   ]
  },
  {
   "cell_type": "code",
   "execution_count": 71,
   "metadata": {
    "collapsed": false,
    "scrolled": true
   },
   "outputs": [
    {
     "data": {
      "text/plain": [
       "A   -0.380104\n",
       "B   -1.666059\n",
       "Name: 2, dtype: float64"
      ]
     },
     "execution_count": 71,
     "metadata": {},
     "output_type": "execute_result"
    }
   ],
   "source": [
    "df.loc['G1'].iloc[1]"
   ]
  },
  {
   "cell_type": "code",
   "execution_count": 72,
   "metadata": {
    "collapsed": false
   },
   "outputs": [
    {
     "data": {
      "text/plain": [
       "FrozenList([None, None])"
      ]
     },
     "execution_count": 72,
     "metadata": {},
     "output_type": "execute_result"
    }
   ],
   "source": [
    "df.index.names"
   ]
  },
  {
   "cell_type": "code",
   "execution_count": 73,
   "metadata": {
    "collapsed": true
   },
   "outputs": [],
   "source": [
    "df.index.names = ['Group','Num']"
   ]
  },
  {
   "cell_type": "code",
   "execution_count": 74,
   "metadata": {
    "collapsed": false
   },
   "outputs": [
    {
     "data": {
      "text/html": [
       "<div>\n",
       "<table border=\"1\" class=\"dataframe\">\n",
       "  <thead>\n",
       "    <tr style=\"text-align: right;\">\n",
       "      <th></th>\n",
       "      <th></th>\n",
       "      <th>A</th>\n",
       "      <th>B</th>\n",
       "    </tr>\n",
       "    <tr>\n",
       "      <th>Group</th>\n",
       "      <th>Num</th>\n",
       "      <th></th>\n",
       "      <th></th>\n",
       "    </tr>\n",
       "  </thead>\n",
       "  <tbody>\n",
       "    <tr>\n",
       "      <th rowspan=\"3\" valign=\"top\">G1</th>\n",
       "      <th>1</th>\n",
       "      <td>-1.097693</td>\n",
       "      <td>-1.908009</td>\n",
       "    </tr>\n",
       "    <tr>\n",
       "      <th>2</th>\n",
       "      <td>-0.380104</td>\n",
       "      <td>-1.666059</td>\n",
       "    </tr>\n",
       "    <tr>\n",
       "      <th>3</th>\n",
       "      <td>-2.736995</td>\n",
       "      <td>1.522562</td>\n",
       "    </tr>\n",
       "    <tr>\n",
       "      <th rowspan=\"3\" valign=\"top\">G2</th>\n",
       "      <th>1</th>\n",
       "      <td>0.178009</td>\n",
       "      <td>-0.626805</td>\n",
       "    </tr>\n",
       "    <tr>\n",
       "      <th>2</th>\n",
       "      <td>-0.391089</td>\n",
       "      <td>1.743477</td>\n",
       "    </tr>\n",
       "    <tr>\n",
       "      <th>3</th>\n",
       "      <td>1.130018</td>\n",
       "      <td>0.897796</td>\n",
       "    </tr>\n",
       "  </tbody>\n",
       "</table>\n",
       "</div>"
      ],
      "text/plain": [
       "                  A         B\n",
       "Group Num                    \n",
       "G1    1   -1.097693 -1.908009\n",
       "      2   -0.380104 -1.666059\n",
       "      3   -2.736995  1.522562\n",
       "G2    1    0.178009 -0.626805\n",
       "      2   -0.391089  1.743477\n",
       "      3    1.130018  0.897796"
      ]
     },
     "execution_count": 74,
     "metadata": {},
     "output_type": "execute_result"
    }
   ],
   "source": [
    "df"
   ]
  },
  {
   "cell_type": "code",
   "execution_count": 75,
   "metadata": {
    "collapsed": false
   },
   "outputs": [
    {
     "data": {
      "text/html": [
       "<div>\n",
       "<table border=\"1\" class=\"dataframe\">\n",
       "  <thead>\n",
       "    <tr style=\"text-align: right;\">\n",
       "      <th></th>\n",
       "      <th>A</th>\n",
       "      <th>B</th>\n",
       "    </tr>\n",
       "    <tr>\n",
       "      <th>Num</th>\n",
       "      <th></th>\n",
       "      <th></th>\n",
       "    </tr>\n",
       "  </thead>\n",
       "  <tbody>\n",
       "    <tr>\n",
       "      <th>1</th>\n",
       "      <td>-1.097693</td>\n",
       "      <td>-1.908009</td>\n",
       "    </tr>\n",
       "    <tr>\n",
       "      <th>2</th>\n",
       "      <td>-0.380104</td>\n",
       "      <td>-1.666059</td>\n",
       "    </tr>\n",
       "    <tr>\n",
       "      <th>3</th>\n",
       "      <td>-2.736995</td>\n",
       "      <td>1.522562</td>\n",
       "    </tr>\n",
       "  </tbody>\n",
       "</table>\n",
       "</div>"
      ],
      "text/plain": [
       "            A         B\n",
       "Num                    \n",
       "1   -1.097693 -1.908009\n",
       "2   -0.380104 -1.666059\n",
       "3   -2.736995  1.522562"
      ]
     },
     "execution_count": 75,
     "metadata": {},
     "output_type": "execute_result"
    }
   ],
   "source": [
    "# select the subtable at a specific external index\n",
    "\n",
    "df.xs('G1')"
   ]
  },
  {
   "cell_type": "code",
   "execution_count": 77,
   "metadata": {
    "collapsed": false
   },
   "outputs": [
    {
     "data": {
      "text/plain": [
       "A   -1.097693\n",
       "B   -1.908009\n",
       "Name: (G1, 1), dtype: float64"
      ]
     },
     "execution_count": 77,
     "metadata": {},
     "output_type": "execute_result"
    }
   ],
   "source": [
    "# select the row at a specific external and internal indexes\n",
    "\n",
    "df.xs(['G1',1])"
   ]
  },
  {
   "cell_type": "code",
   "execution_count": 78,
   "metadata": {
    "collapsed": false
   },
   "outputs": [
    {
     "data": {
      "text/html": [
       "<div>\n",
       "<table border=\"1\" class=\"dataframe\">\n",
       "  <thead>\n",
       "    <tr style=\"text-align: right;\">\n",
       "      <th></th>\n",
       "      <th>A</th>\n",
       "      <th>B</th>\n",
       "    </tr>\n",
       "    <tr>\n",
       "      <th>Group</th>\n",
       "      <th></th>\n",
       "      <th></th>\n",
       "    </tr>\n",
       "  </thead>\n",
       "  <tbody>\n",
       "    <tr>\n",
       "      <th>G1</th>\n",
       "      <td>-1.097693</td>\n",
       "      <td>-1.908009</td>\n",
       "    </tr>\n",
       "    <tr>\n",
       "      <th>G2</th>\n",
       "      <td>0.178009</td>\n",
       "      <td>-0.626805</td>\n",
       "    </tr>\n",
       "  </tbody>\n",
       "</table>\n",
       "</div>"
      ],
      "text/plain": [
       "              A         B\n",
       "Group                    \n",
       "G1    -1.097693 -1.908009\n",
       "G2     0.178009 -0.626805"
      ]
     },
     "execution_count": 78,
     "metadata": {},
     "output_type": "execute_result"
    }
   ],
   "source": [
    "# subtable with a specific index from the inner indexs\n",
    "\n",
    "df.xs(1,level='Num')"
   ]
  }
 ],
 "metadata": {
  "kernelspec": {
   "display_name": "Python 3",
   "language": "python",
   "name": "python3"
  },
  "language_info": {
   "codemirror_mode": {
    "name": "ipython",
    "version": 3
   },
   "file_extension": ".py",
   "mimetype": "text/x-python",
   "name": "python",
   "nbconvert_exporter": "python",
   "pygments_lexer": "ipython3",
   "version": "3.6.0"
  }
 },
 "nbformat": 4,
 "nbformat_minor": 2
}
